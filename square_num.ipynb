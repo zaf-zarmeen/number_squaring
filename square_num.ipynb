{
  "nbformat": 4,
  "nbformat_minor": 0,
  "metadata": {
    "colab": {
      "provenance": []
    },
    "kernelspec": {
      "name": "python3",
      "display_name": "Python 3"
    },
    "language_info": {
      "name": "python"
    }
  },
  "cells": [
    {
      "cell_type": "code",
      "execution_count": 2,
      "metadata": {
        "colab": {
          "base_uri": "https://localhost:8080/"
        },
        "id": "sgIuGYW0Z_4h",
        "outputId": "17de97c7-0f3f-4b1a-c90e-9907038f49e8"
      },
      "outputs": [
        {
          "output_type": "stream",
          "name": "stdout",
          "text": [
            "Enter a number to see its square 5\n",
            "5.0 square is 25.0\n"
          ]
        }
      ],
      "source": [
        "def main() :\n",
        "    num :float = float (input(\"Enter a number to see its square \"))\n",
        "    print(str(num) + \" square is \" + str(num ** 2))\n",
        "main()"
      ]
    }
  ]
}